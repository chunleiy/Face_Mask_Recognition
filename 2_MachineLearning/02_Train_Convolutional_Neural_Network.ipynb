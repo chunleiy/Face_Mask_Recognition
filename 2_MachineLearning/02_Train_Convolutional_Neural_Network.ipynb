{
 "cells": [
  {
   "cell_type": "markdown",
   "id": "8336da7d",
   "metadata": {
    "id": "8336da7d"
   },
   "source": [
    "## Train Deep Learning Model"
   ]
  },
  {
   "cell_type": "markdown",
   "id": "50227054",
   "metadata": {
    "id": "50227054"
   },
   "source": [
    "### step-1 load the preprocess data"
   ]
  },
  {
   "cell_type": "code",
   "execution_count": 1,
   "id": "a311b6b3",
   "metadata": {
    "id": "a311b6b3"
   },
   "outputs": [],
   "source": [
    "import os\n",
    "import numpy as np\n",
    "import cv2\n",
    "import gc # garbage collect\n",
    "#os.environ['KMP_DUPLICATE_LIB_OK'] = 'True'"
   ]
  },
  {
   "cell_type": "code",
   "execution_count": 2,
   "id": "c5c4bde5",
   "metadata": {
    "id": "c5c4bde5"
   },
   "outputs": [],
   "source": [
    "# load the preprocessed data\n",
    "data = np.load('./data/data_preprocess.npz')"
   ]
  },
  {
   "cell_type": "code",
   "execution_count": 3,
   "id": "949e8123",
   "metadata": {
    "id": "949e8123"
   },
   "outputs": [],
   "source": [
    "X = data['arr_0'] # saved\n",
    "y = data['arr_1']"
   ]
  },
  {
   "cell_type": "code",
   "execution_count": 4,
   "id": "8e4558e4",
   "metadata": {
    "id": "8e4558e4",
    "outputId": "fe4acf4c-9531-4d52-ffd3-00489d157565"
   },
   "outputs": [
    {
     "data": {
      "text/plain": [
       "((9959, 224, 224, 3), (9959,))"
      ]
     },
     "execution_count": 4,
     "metadata": {},
     "output_type": "execute_result"
    }
   ],
   "source": [
    "X.shape, y.shape"
   ]
  },
  {
   "cell_type": "markdown",
   "id": "3bf84e28",
   "metadata": {
    "id": "3bf84e28"
   },
   "source": [
    "### Preprocessing \"y\""
   ]
  },
  {
   "cell_type": "code",
   "execution_count": 5,
   "id": "d704e6ac",
   "metadata": {
    "id": "d704e6ac",
    "outputId": "081f59c5-153d-49a5-fcfe-9ed71a8deba5"
   },
   "outputs": [
    {
     "data": {
      "text/plain": [
       "array(['Mask', 'Mask_Chin', 'Mask_Mouth_Chin', 'Mask_Nose_Mouth'],\n",
       "      dtype='<U15')"
      ]
     },
     "execution_count": 5,
     "metadata": {},
     "output_type": "execute_result"
    }
   ],
   "source": [
    "np.unique(y) # cannot train categorical data, have to do data preprocessing"
   ]
  },
  {
   "cell_type": "code",
   "execution_count": 6,
   "id": "bc63d572",
   "metadata": {
    "id": "bc63d572"
   },
   "outputs": [],
   "source": [
    "from sklearn.preprocessing import OneHotEncoder # convert to OneHotEncoder format"
   ]
  },
  {
   "cell_type": "code",
   "execution_count": 7,
   "id": "dd8951e8",
   "metadata": {
    "id": "dd8951e8"
   },
   "outputs": [],
   "source": [
    "onehot = OneHotEncoder()\n",
    "y_onehot = onehot.fit_transform(y.reshape(-1,1)) # convert to 2D array"
   ]
  },
  {
   "cell_type": "code",
   "execution_count": 8,
   "id": "ca569741",
   "metadata": {
    "id": "ca569741"
   },
   "outputs": [],
   "source": [
    "y_array = y_onehot.toarray() # 4 columns, with each column representing a category of mask wearing. "
   ]
  },
  {
   "cell_type": "markdown",
   "id": "08798255",
   "metadata": {
    "id": "08798255"
   },
   "source": [
    "### Split the Data into Train and Test sets"
   ]
  },
  {
   "cell_type": "code",
   "execution_count": 9,
   "id": "eea32408",
   "metadata": {
    "id": "eea32408"
   },
   "outputs": [],
   "source": [
    "from sklearn.model_selection import train_test_split\n",
    "x_train, x_test, y_train, y_test = train_test_split(X,y_array,test_size=0.2,random_state=42)"
   ]
  },
  {
   "cell_type": "code",
   "execution_count": 10,
   "id": "40129ec5",
   "metadata": {
    "id": "40129ec5",
    "outputId": "0c1cc6fb-1ed3-40a1-cb58-f13b025ed78a"
   },
   "outputs": [
    {
     "data": {
      "text/plain": [
       "((7967, 224, 224, 3), (1992, 224, 224, 3), (7967, 4), (1992, 4))"
      ]
     },
     "execution_count": 10,
     "metadata": {},
     "output_type": "execute_result"
    }
   ],
   "source": [
    "x_train.shape, x_test.shape, y_train.shape, y_test.shape"
   ]
  },
  {
   "cell_type": "markdown",
   "id": "1f9b4293",
   "metadata": {
    "id": "1f9b4293"
   },
   "source": [
    "### Deep Learning Model"
   ]
  },
  {
   "cell_type": "markdown",
   "id": "4dd7c71f",
   "metadata": {
    "id": "4dd7c71f"
   },
   "source": [
    "![cnn](cnn.png)"
   ]
  },
  {
   "cell_type": "code",
   "execution_count": 11,
   "id": "ec3197eb",
   "metadata": {
    "id": "ec3197eb",
    "outputId": "1cb46763-a8c0-4c1a-ffea-17937989af9f"
   },
   "outputs": [],
   "source": [
    "# y_train"
   ]
  },
  {
   "cell_type": "code",
   "execution_count": 12,
   "id": "05ad97c2",
   "metadata": {
    "id": "05ad97c2"
   },
   "outputs": [],
   "source": [
    "# cv2.imshow('a',x_train[-2])\n",
    "# cv2.waitKey()\n",
    "# cv2.destroyAllWindows()"
   ]
  },
  {
   "cell_type": "code",
   "execution_count": 13,
   "id": "309cbc21",
   "metadata": {
    "id": "309cbc21"
   },
   "outputs": [
    {
     "name": "stderr",
     "output_type": "stream",
     "text": [
      "2022-11-30 21:25:07.973576: I tensorflow/core/platform/cpu_feature_guard.cc:193] This TensorFlow binary is optimized with oneAPI Deep Neural Network Library (oneDNN) to use the following CPU instructions in performance-critical operations:  AVX2 FMA\n",
      "To enable them in other operations, rebuild TensorFlow with the appropriate compiler flags.\n"
     ]
    }
   ],
   "source": [
    "import tensorflow as tf\n",
    "from tensorflow.keras import layers\n",
    "from tensorflow.keras import Sequential"
   ]
  },
  {
   "cell_type": "code",
   "execution_count": 14,
   "id": "bfc34898",
   "metadata": {
    "id": "bfc34898"
   },
   "outputs": [
    {
     "name": "stderr",
     "output_type": "stream",
     "text": [
      "2022-11-30 21:25:15.810823: I tensorflow/core/platform/cpu_feature_guard.cc:193] This TensorFlow binary is optimized with oneAPI Deep Neural Network Library (oneDNN) to use the following CPU instructions in performance-critical operations:  AVX2 FMA\n",
      "To enable them in other operations, rebuild TensorFlow with the appropriate compiler flags.\n"
     ]
    }
   ],
   "source": [
    "# convolution neural network\n",
    "\n",
    "model = Sequential([ # sequential process\n",
    "    layers.Conv2D(16,3,padding='same',input_shape=(224,224,3),activation='relu'), # same padding = 0 padding, \n",
    "                                                                                #activation function is Relu \n",
    "    layers.MaxPool2D(), # max pooling\n",
    "    layers.Conv2D(32,3,padding='same',activation='relu'),\n",
    "    layers.MaxPool2D(),\n",
    "    layers.Conv2D(64,3,padding='same',activation='relu'),\n",
    "    layers.MaxPool2D(),\n",
    "    layers.Flatten(),# flaten the input\n",
    "    layers.Dense(192,activation='relu'), # 192 neurons calculated based on the pyramidal function\n",
    "    layers.Dense(28,activation='relu'),\n",
    "    layers.Dense(4,activation='sigmoid') # number of outcomes = 4\n",
    "]) \n",
    "\n",
    "\n",
    "# compiling CNN\n",
    "model.compile(optimizer=tf.keras.optimizers.Adam(learning_rate=0.001), # learning rate as small as possible to \n",
    "                                                                                          #improve prediction\n",
    "              loss=tf.keras.losses.categorical_crossentropy,metrics=['accuracy'])"
   ]
  },
  {
   "cell_type": "code",
   "execution_count": 15,
   "id": "6a67e474",
   "metadata": {
    "id": "6a67e474",
    "outputId": "f9bb3659-b094-49ac-96aa-e26215a03fc0"
   },
   "outputs": [
    {
     "name": "stdout",
     "output_type": "stream",
     "text": [
      "Model: \"sequential\"\n",
      "_________________________________________________________________\n",
      " Layer (type)                Output Shape              Param #   \n",
      "=================================================================\n",
      " conv2d (Conv2D)             (None, 224, 224, 16)      448       \n",
      "                                                                 \n",
      " max_pooling2d (MaxPooling2D  (None, 112, 112, 16)     0         \n",
      " )                                                               \n",
      "                                                                 \n",
      " conv2d_1 (Conv2D)           (None, 112, 112, 32)      4640      \n",
      "                                                                 \n",
      " max_pooling2d_1 (MaxPooling  (None, 56, 56, 32)       0         \n",
      " 2D)                                                             \n",
      "                                                                 \n",
      " conv2d_2 (Conv2D)           (None, 56, 56, 64)        18496     \n",
      "                                                                 \n",
      " max_pooling2d_2 (MaxPooling  (None, 28, 28, 64)       0         \n",
      " 2D)                                                             \n",
      "                                                                 \n",
      " flatten (Flatten)           (None, 50176)             0         \n",
      "                                                                 \n",
      " dense (Dense)               (None, 192)               9633984   \n",
      "                                                                 \n",
      " dense_1 (Dense)             (None, 28)                5404      \n",
      "                                                                 \n",
      " dense_2 (Dense)             (None, 4)                 116       \n",
      "                                                                 \n",
      "=================================================================\n",
      "Total params: 9,663,088\n",
      "Trainable params: 9,663,088\n",
      "Non-trainable params: 0\n",
      "_________________________________________________________________\n"
     ]
    }
   ],
   "source": [
    "model.summary()"
   ]
  },
  {
   "cell_type": "code",
   "execution_count": 16,
   "id": "4c85f95b",
   "metadata": {
    "id": "4c85f95b",
    "outputId": "462e8223-6adb-4c9e-a552-aaf22bd5d87c"
   },
   "outputs": [
    {
     "name": "stdout",
     "output_type": "stream",
     "text": [
      "Epoch 1/10\n",
      "266/266 [==============================] - 138s 515ms/step - loss: 0.2484 - accuracy: 0.9160 - val_loss: 0.0986 - val_accuracy: 0.9694\n",
      "Epoch 2/10\n",
      "266/266 [==============================] - 131s 493ms/step - loss: 0.0615 - accuracy: 0.9790 - val_loss: 0.1043 - val_accuracy: 0.9714\n",
      "Epoch 3/10\n",
      "266/266 [==============================] - 131s 492ms/step - loss: 0.0271 - accuracy: 0.9912 - val_loss: 0.0780 - val_accuracy: 0.9784\n",
      "Epoch 4/10\n",
      "266/266 [==============================] - 133s 501ms/step - loss: 0.0151 - accuracy: 0.9945 - val_loss: 0.1359 - val_accuracy: 0.9739\n",
      "Epoch 5/10\n",
      "266/266 [==============================] - 124s 465ms/step - loss: 0.0159 - accuracy: 0.9947 - val_loss: 0.1212 - val_accuracy: 0.9739\n",
      "Epoch 6/10\n",
      "266/266 [==============================] - 130s 489ms/step - loss: 0.0108 - accuracy: 0.9964 - val_loss: 0.1171 - val_accuracy: 0.9724\n",
      "Epoch 7/10\n",
      "266/266 [==============================] - 124s 464ms/step - loss: 0.0105 - accuracy: 0.9964 - val_loss: 0.1213 - val_accuracy: 0.9789\n",
      "Epoch 8/10\n",
      "266/266 [==============================] - 120s 450ms/step - loss: 0.0094 - accuracy: 0.9974 - val_loss: 0.1033 - val_accuracy: 0.9819\n",
      "Epoch 9/10\n",
      "266/266 [==============================] - 555s 2s/step - loss: 0.0032 - accuracy: 0.9995 - val_loss: 0.1231 - val_accuracy: 0.9814\n",
      "Epoch 10/10\n",
      "266/266 [==============================] - 121s 454ms/step - loss: 0.0033 - accuracy: 0.9987 - val_loss: 0.0958 - val_accuracy: 0.9824\n"
     ]
    }
   ],
   "source": [
    "# Training CNN\n",
    "history = model.fit(x=x_train,y=y_train,validation_data=(x_test,y_test),batch_size=30,epochs=10) # small batch size, otherwise memory issue; epoch larger the better"
   ]
  },
  {
   "cell_type": "code",
   "execution_count": 17,
   "id": "7f17d44e",
   "metadata": {
    "id": "7f17d44e",
    "outputId": "fab1976a-66ef-4b60-e63b-a639cc33146e"
   },
   "outputs": [
    {
     "data": {
      "image/png": "[encoded data removed]",
      "text/plain": [
       "<Figure size 640x480 with 1 Axes>"
      ]
     },
     "metadata": {},
     "output_type": "display_data"
    },
    {
     "data": {
      "image/png": "[encoded data removed]",
      "text/plain": [
       "<Figure size 640x480 with 1 Axes>"
      ]
     },
     "metadata": {},
     "output_type": "display_data"
    }
   ],
   "source": [
    "import pandas as pd\n",
    "import matplotlib.pyplot as plt\n",
    "\n",
    "history_df = pd.DataFrame(history.history)\n",
    "\n",
    "history_df\n",
    "\n",
    "history_df[['loss','val_loss']].plot(kind='line') # graph shows no over fit. Loss & validation loss are both decreasing\n",
    "plt.xlabel('Epochs')\n",
    "plt.ylabel('Loss')\n",
    "plt.xticks(list(range(10)),list(range(1,11)))\n",
    "plt.show()\n",
    "\n",
    "history_df[['accuracy','val_accuracy']].plot(kind='line') # both train accuracy and test accuracy are increasing\n",
    "plt.xlabel('Epochs')\n",
    "plt.ylabel('Accuracy')\n",
    "plt.xticks(list(range(10)),list(range(1,11)))\n",
    "plt.show()\n",
    "\n"
   ]
  },
  {
   "cell_type": "code",
   "execution_count": 18,
   "id": "7f038576",
   "metadata": {
    "id": "7f038576"
   },
   "outputs": [
    {
     "data": {
      "text/html": [
       "<div>\n",
       "<style scoped>\n",
       "    .dataframe tbody tr th:only-of-type {\n",
       "        vertical-align: middle;\n",
       "    }\n",
       "\n",
       "    .dataframe tbody tr th {\n",
       "        vertical-align: top;\n",
       "    }\n",
       "\n",
       "    .dataframe thead th {\n",
       "        text-align: right;\n",
       "    }\n",
       "</style>\n",
       "<table border=\"1\" class=\"dataframe\">\n",
       "  <thead>\n",
       "    <tr style=\"text-align: right;\">\n",
       "      <th></th>\n",
       "      <th>loss</th>\n",
       "      <th>accuracy</th>\n",
       "      <th>val_loss</th>\n",
       "      <th>val_accuracy</th>\n",
       "    </tr>\n",
       "  </thead>\n",
       "  <tbody>\n",
       "    <tr>\n",
       "      <th>0</th>\n",
       "      <td>0.248397</td>\n",
       "      <td>0.916029</td>\n",
       "      <td>0.098630</td>\n",
       "      <td>0.969378</td>\n",
       "    </tr>\n",
       "    <tr>\n",
       "      <th>1</th>\n",
       "      <td>0.061521</td>\n",
       "      <td>0.979039</td>\n",
       "      <td>0.104288</td>\n",
       "      <td>0.971386</td>\n",
       "    </tr>\n",
       "    <tr>\n",
       "      <th>2</th>\n",
       "      <td>0.027088</td>\n",
       "      <td>0.991214</td>\n",
       "      <td>0.077971</td>\n",
       "      <td>0.978414</td>\n",
       "    </tr>\n",
       "    <tr>\n",
       "      <th>3</th>\n",
       "      <td>0.015090</td>\n",
       "      <td>0.994477</td>\n",
       "      <td>0.135872</td>\n",
       "      <td>0.973896</td>\n",
       "    </tr>\n",
       "    <tr>\n",
       "      <th>4</th>\n",
       "      <td>0.015854</td>\n",
       "      <td>0.994728</td>\n",
       "      <td>0.121184</td>\n",
       "      <td>0.973896</td>\n",
       "    </tr>\n",
       "    <tr>\n",
       "      <th>5</th>\n",
       "      <td>0.010767</td>\n",
       "      <td>0.996360</td>\n",
       "      <td>0.117127</td>\n",
       "      <td>0.972390</td>\n",
       "    </tr>\n",
       "    <tr>\n",
       "      <th>6</th>\n",
       "      <td>0.010550</td>\n",
       "      <td>0.996360</td>\n",
       "      <td>0.121343</td>\n",
       "      <td>0.978916</td>\n",
       "    </tr>\n",
       "    <tr>\n",
       "      <th>7</th>\n",
       "      <td>0.009414</td>\n",
       "      <td>0.997364</td>\n",
       "      <td>0.103337</td>\n",
       "      <td>0.981928</td>\n",
       "    </tr>\n",
       "    <tr>\n",
       "      <th>8</th>\n",
       "      <td>0.003217</td>\n",
       "      <td>0.999498</td>\n",
       "      <td>0.123108</td>\n",
       "      <td>0.981426</td>\n",
       "    </tr>\n",
       "    <tr>\n",
       "      <th>9</th>\n",
       "      <td>0.003293</td>\n",
       "      <td>0.998745</td>\n",
       "      <td>0.095848</td>\n",
       "      <td>0.982430</td>\n",
       "    </tr>\n",
       "  </tbody>\n",
       "</table>\n",
       "</div>"
      ],
      "text/plain": [
       "       loss  accuracy  val_loss  val_accuracy\n",
       "0  0.248397  0.916029  0.098630      0.969378\n",
       "1  0.061521  0.979039  0.104288      0.971386\n",
       "2  0.027088  0.991214  0.077971      0.978414\n",
       "3  0.015090  0.994477  0.135872      0.973896\n",
       "4  0.015854  0.994728  0.121184      0.973896\n",
       "5  0.010767  0.996360  0.117127      0.972390\n",
       "6  0.010550  0.996360  0.121343      0.978916\n",
       "7  0.009414  0.997364  0.103337      0.981928\n",
       "8  0.003217  0.999498  0.123108      0.981426\n",
       "9  0.003293  0.998745  0.095848      0.982430"
      ]
     },
     "execution_count": 18,
     "metadata": {},
     "output_type": "execute_result"
    }
   ],
   "source": [
    "history_df"
   ]
  },
  {
   "cell_type": "code",
   "execution_count": 19,
   "id": "f2644c9d",
   "metadata": {
    "id": "f2644c9d",
    "outputId": "1239a25a-8a53-49ee-d90e-703045bfc094"
   },
   "outputs": [
    {
     "name": "stderr",
     "output_type": "stream",
     "text": [
      "WARNING:absl:Found untraced functions such as _jit_compiled_convolution_op, _jit_compiled_convolution_op, _jit_compiled_convolution_op while saving (showing 3 of 3). These functions will not be directly callable after loading.\n"
     ]
    },
    {
     "name": "stdout",
     "output_type": "stream",
     "text": [
      "INFO:tensorflow:Assets written to: face_cnn_model/assets\n"
     ]
    },
    {
     "name": "stderr",
     "output_type": "stream",
     "text": [
      "INFO:tensorflow:Assets written to: face_cnn_model/assets\n"
     ]
    }
   ],
   "source": [
    "# Save CNN Model\n",
    "model.save('face_cnn_model')\n",
    "\n"
   ]
  },
  {
   "cell_type": "code",
   "execution_count": 20,
   "id": "83494eff",
   "metadata": {
    "id": "83494eff"
   },
   "outputs": [
    {
     "data": {
      "text/plain": [
       "[array(['Mask', 'Mask_Chin', 'Mask_Mouth_Chin', 'Mask_Nose_Mouth'],\n",
       "       dtype='<U15')]"
      ]
     },
     "execution_count": 20,
     "metadata": {},
     "output_type": "execute_result"
    }
   ],
   "source": [
    "onehot.categories_"
   ]
  },
  {
   "cell_type": "code",
   "execution_count": null,
   "id": "d6ece01a",
   "metadata": {
    "id": "d6ece01a"
   },
   "outputs": [],
   "source": []
  },
  {
   "cell_type": "code",
   "execution_count": null,
   "id": "185f5885",
   "metadata": {
    "id": "185f5885"
   },
   "outputs": [],
   "source": []
  },
  {
   "cell_type": "code",
   "execution_count": null,
   "id": "9c6d7add",
   "metadata": {
    "id": "9c6d7add"
   },
   "outputs": [],
   "source": []
  },
  {
   "cell_type": "code",
   "execution_count": null,
   "id": "7b1bcda5",
   "metadata": {
    "id": "7b1bcda5"
   },
   "outputs": [],
   "source": []
  },
  {
   "cell_type": "code",
   "execution_count": null,
   "id": "6b348f51",
   "metadata": {
    "id": "6b348f51"
   },
   "outputs": [],
   "source": []
  },
  {
   "cell_type": "code",
   "execution_count": null,
   "id": "273f6fd1",
   "metadata": {
    "id": "273f6fd1"
   },
   "outputs": [],
   "source": []
  },
  {
   "cell_type": "code",
   "execution_count": null,
   "id": "0884d278",
   "metadata": {
    "id": "0884d278"
   },
   "outputs": [],
   "source": []
  },
  {
   "cell_type": "code",
   "execution_count": null,
   "id": "3518eac8",
   "metadata": {
    "id": "3518eac8"
   },
   "outputs": [],
   "source": []
  },
  {
   "cell_type": "code",
   "execution_count": null,
   "id": "07b89079",
   "metadata": {
    "id": "07b89079"
   },
   "outputs": [],
   "source": []
  },
  {
   "cell_type": "code",
   "execution_count": null,
   "id": "2f7eddcf",
   "metadata": {
    "id": "2f7eddcf"
   },
   "outputs": [],
   "source": []
  },
  {
   "cell_type": "code",
   "execution_count": null,
   "id": "9fa0aead",
   "metadata": {
    "id": "9fa0aead"
   },
   "outputs": [],
   "source": []
  },
  {
   "cell_type": "code",
   "execution_count": null,
   "id": "1b733294",
   "metadata": {
    "id": "1b733294"
   },
   "outputs": [],
   "source": []
  },
  {
   "cell_type": "code",
   "execution_count": null,
   "id": "6365b96c",
   "metadata": {
    "id": "6365b96c"
   },
   "outputs": [],
   "source": []
  },
  {
   "cell_type": "code",
   "execution_count": null,
   "id": "7bfff713",
   "metadata": {
    "id": "7bfff713"
   },
   "outputs": [],
   "source": []
  },
  {
   "cell_type": "code",
   "execution_count": null,
   "id": "81ee1689",
   "metadata": {
    "id": "81ee1689"
   },
   "outputs": [],
   "source": []
  },
  {
   "cell_type": "code",
   "execution_count": null,
   "id": "b9a4a0b1",
   "metadata": {
    "id": "b9a4a0b1"
   },
   "outputs": [],
   "source": []
  },
  {
   "cell_type": "code",
   "execution_count": null,
   "id": "643fe848",
   "metadata": {
    "id": "643fe848"
   },
   "outputs": [],
   "source": []
  },
  {
   "cell_type": "code",
   "execution_count": null,
   "id": "12565f53",
   "metadata": {},
   "outputs": [],
   "source": []
  }
 ],
 "metadata": {
  "colab": {
   "provenance": []
  },
  "kernelspec": {
   "display_name": "Python 3 (ipykernel)",
   "language": "python",
   "name": "python3"
  },
  "language_info": {
   "codemirror_mode": {
    "name": "ipython",
    "version": 3
   },
   "file_extension": ".py",
   "mimetype": "text/x-python",
   "name": "python",
   "nbconvert_exporter": "python",
   "pygments_lexer": "ipython3",
   "version": "3.9.7"
  }
 },
 "nbformat": 4,
 "nbformat_minor": 5
}
